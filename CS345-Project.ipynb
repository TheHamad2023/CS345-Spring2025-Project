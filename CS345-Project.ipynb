{
 "cells": [
  {
   "cell_type": "code",
   "execution_count": null,
   "id": "e86e4561",
   "metadata": {},
   "outputs": [
    {
     "name": "stdout",
     "output_type": "stream",
     "text": [
      "Read with tabs\n",
      "Data Preview:\n",
      "Number of rows (samples): 117258\n",
      "Number of columns (features): 1\n",
      "   Ne l fin de l seclo XIX l Japon era inda çconhecido i sótico pa l mundo oucidental. Cula antroduçon de la stética japonesa, particularmente na Sposiçon Ounibersal de 1900, an Paris, l Oucidente adquiriu un apetite ansaciable pul Japon i Heiarn se tornou mundialmente coincido pula perfundidade, ouriginalidade i sinceridade de ls sous cuntos. An sous radadeiros anhos, alguns críticos, cumo George Orwell, acusórun Heiarn de trasferir sou nacionalismo i fazer l Japon parecer mais sótico, mas, cumo l'home qu'oufereciu al Oucidente alguns de sous purmeiros lampeijos de l Japon pré-andustrial i de l Período Meiji, sou trabalho inda ye balioso até hoije.\n",
      "0   Schiedam is gelegen tussen Rotterdam en Vlaard...                                                                                                                                                                                                                                                                                                                                                                                                                                                                                                                                                                                                                            \n",
      "1   ГIурусаз батальонал, гьоркьор гIарадабиги лъун...                                                                                                                                                                                                                                                                                                                                                                                                                                                                                                                                                                                                                            \n",
      "2   ರಾಜ್ಯಶಾಸ್ತ್ರದ ಪಿತಾಮಹೆ ಅರಿಸ್ಟಾಟಲ್. ರಾಜ್ಯಶಾಸ್ತ್ರ...                                                                                                                                                                                                                                                                                                                                                                                                                                                                                                                                                                                                                            \n",
      "3   Halukum adalah kelenjar tiroid nang menonjol d...                                                                                                                                                                                                                                                                                                                                                                                                                                                                                                                                                                                                                            \n",
      "4   Тухайн үед дан ганц 20кг-ын Орос баллон хэрэгл...                                                                                                                                                                                                                                                                                                                                                                                                                                                                                                                                                                                                                            \n",
      "5   پاپاپلنگي، ايتا شاخه گل محمدي، هجري قمري، كُلش...                                                                                                                                                                                                                                                                                                                                                                                                                                                                                                                                                                                                                            \n",
      "6   2007 йисан агьалияр сиягьдиз къачунин малуматр...                                                                                                                                                                                                                                                                                                                                                                                                                                                                                                                                                                                                                            \n",
      "7   Оперативните програми (ОП) като форма на финан...                                                                                                                                                                                                                                                                                                                                                                                                                                                                                                                                                                                                                            \n",
      "8   Tī Feigneux ê sì-ûi ū Béthancourt-en-Valois, C...                                                                                                                                                                                                                                                                                                                                                                                                                                                                                                                                                                                                                            \n",
      "9   Glucose (/ˈɡluːkoʊs/ or /-koʊz/; C6H12O6, an a...                                                                                                                                                                                                                                                                                                                                                                                                                                                                                                                                                                                                                            \n",
      "10  2005 йисуз хьайи референдумда кьабулнай къарар...                                                                                                                                                                                                                                                                                                                                                                                                                                                                                                                                                                                                                            \n",
      "11  Mars (1,5 SA tumatan di matahari) ba'ukuran ta...                                                                                                                                                                                                                                                                                                                                                                                                                                                                                                                                                                                                                            \n",
      "12  A l'è 'na variante ciû complessa da clascica \"...                                                                                                                                                                                                                                                                                                                                                                                                                                                                                                                                                                                                                            \n",
      "13  Segun l'Usana Kontado Ministerio, l'urbo havas...                                                                                                                                                                                                                                                                                                                                                                                                                                                                                                                                                                                                                            \n",
      "14  كانت رحلة كوك - فولسوم - بيترسون الاستكشافية ع...                                                                                                                                                                                                                                                                                                                                                                                                                                                                                                                                                                                                                            \n",
      "15  ಈ ಪಿಡುಗು ಕಡಿಮೆ ಸಂಖ್ಯೆಯಲ್ಲಿ ನಗರ ಮತ್ತು ಹಳ್ಳಿಗಳನ್...                                                                                                                                                                                                                                                                                                                                                                                                                                                                                                                                                                                                                            \n",
      "16  Peny se yon enstriman plat, dan li gen lajè yo...                                                                                                                                                                                                                                                                                                                                                                                                                                                                                                                                                                                                                            \n",
      "17  Des County liegt im middlan Sidwestn vo Missis...                                                                                                                                                                                                                                                                                                                                                                                                                                                                                                                                                                                                                            \n",
      "18  ಪ್ರತಿ ಬಾರಿ ಹಸ್ತಪ್ರತಿಯನ್ನು ನಕಲು ಮಾಡಿದಾಗಲೂ ತಪ್ಪು...                                                                                                                                                                                                                                                                                                                                                                                                                                                                                                                                                                                                                            \n",
      "19  Ko Pohuehue he nohanga o te takiwā o Tāmaki-ma...                                                                                                                                                                                                                                                                                                                                                                                                                                                                                                                                                                                                                            \n"
     ]
    }
   ],
   "source": [
    "#Understanding the data set\n",
    "import pandas as pd\n",
    "\n",
    "def inspect_x_test(file_path):\n",
    "    try:\n",
    "        df = pd.read_csv(file_path)\n",
    "        print(\"Read with commas\")\n",
    "    except pd.errors.ParserError:\n",
    "        try:\n",
    "            df = pd.read_csv(file_path, delimiter='\\t')\n",
    "            print(\"Read with tabs\")\n",
    "        except Exception as e:\n",
    "            print(f\"Error reading the .txt file: {e}\")\n",
    "            return\n",
    "    except Exception as e:\n",
    "        print(f\"Error reading the file: {e}\")\n",
    "        return\n",
    "\n",
    "    print(\"Data Preview:\")\n",
    "    print(f\"Number of rows (samples): {df.shape[0]}\")\n",
    "    print(f\"Number of columns (features): {df.shape[1]}\")\n",
    "    # print(\"\\nColumn names:\")\n",
    "    # print(df.columns.tolist())\n",
    "\n",
    "inspect_x_test(\"Data/x_test.txt\")\n",
    "\n",
    "\n",
    "def preview_large_csv(file_path, num_lines=20, delimiter=','):\n",
    "    try:\n",
    "        df = pd.read_csv(file_path, delimiter=delimiter, nrows=num_lines)\n",
    "        print(df)\n",
    "    except Exception as e:\n",
    "        print(f\"Error loading preview: {e}\")\n",
    "\n",
    "preview_large_csv(\"Data/x_test.txt\", delimiter='\\t')"
   ]
  }
 ],
 "metadata": {
  "kernelspec": {
   "display_name": "base",
   "language": "python",
   "name": "python3"
  },
  "language_info": {
   "codemirror_mode": {
    "name": "ipython",
    "version": 3
   },
   "file_extension": ".py",
   "mimetype": "text/x-python",
   "name": "python",
   "nbconvert_exporter": "python",
   "pygments_lexer": "ipython3",
   "version": "3.12.7"
  }
 },
 "nbformat": 4,
 "nbformat_minor": 5
}
